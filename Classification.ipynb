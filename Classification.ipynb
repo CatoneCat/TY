{
 "cells": [
  {
   "cell_type": "markdown",
   "metadata": {},
   "source": [
    "# 分类算法"
   ]
  },
  {
   "cell_type": "markdown",
   "metadata": {},
   "source": [
    "当训练数据中某些类型的频率明显高于其他类型时,仅仅使用准确率(accuracy)来衡量模型效果会造成很大的偏差"
   ]
  },
  {
   "cell_type": "markdown",
   "metadata": {},
   "source": [
    "## 混淆矩阵(Confusion Matrix)"
   ]
  },
  {
   "cell_type": "markdown",
   "metadata": {},
   "source": [
    "以随机梯度下降法(Stochastic Gradient Descent)为例:"
   ]
  },
  {
   "cell_type": "code",
   "execution_count": null,
   "metadata": {
    "collapsed": true
   },
   "outputs": [],
   "source": [
    "from sklearn.linear_model import SGDClassifier\n",
    "\n",
    "sgd_clf = SGDClassifier(random_state=42)\n",
    "sgd_clf.fit(X_train, y_train)"
   ]
  },
  {
   "cell_type": "code",
   "execution_count": null,
   "metadata": {
    "collapsed": true
   },
   "outputs": [],
   "source": [
    "#交叉预测\n",
    "from sklearn.model_selection import cross_val_predict\n",
    "\n",
    "y_train_pred = cross_val_predict(sgd_clf, X_train, y_train, cv=3)"
   ]
  },
  {
   "cell_type": "markdown",
   "metadata": {},
   "source": [
    "与cross_val_score()类似,cross_val_predict()使用K-fold交叉验证  \n",
    "但cross_val_predict()返回的是每个test fold的预测值,而非评估分值"
   ]
  },
  {
   "cell_type": "code",
   "execution_count": null,
   "metadata": {
    "collapsed": true
   },
   "outputs": [],
   "source": [
    "from sklearn.metrics import confusion_matrix\n",
    "\n",
    "confusion_matrix(y_train, y_train_pred)"
   ]
  },
  {
   "cell_type": "markdown",
   "metadata": {},
   "source": [
    "在混淆矩阵中,  \n",
    "每一行表示一个真实分类,每一列表示预测的分类"
   ]
  },
  {
   "cell_type": "raw",
   "metadata": {
    "collapsed": true
   },
   "source": [
    "e.g.      -1    1\n",
    "    -1  [[2000,  200],\n",
    "    1   [ 250,  800]]  \n",
    "         -1   1\n",
    "    -1  [[  TN,  FP],\n",
    "    1   [  FN,  TP]]"
   ]
  },
  {
   "cell_type": "markdown",
   "metadata": {},
   "source": [
    "矩阵的第一行表示实际分类为-1(negative class),其中2000个为正确分类为-1(true negative),200个被错误分类为1(false positive)  \n",
    "矩阵的第二行表示实际分类为1(positive class),其中250个被错误分类为-1(false negative),800个被正确分类为1(true positive)"
   ]
  },
  {
   "cell_type": "markdown",
   "metadata": {},
   "source": [
    "$\\large precision=\\frac{TP}{TP+FP}$  \n",
    "$\\large recall=\\frac{TP}{TP+FN}$  ,也称为sensitivity, true positive rate(TPR)"
   ]
  },
  {
   "cell_type": "code",
   "execution_count": null,
   "metadata": {
    "collapsed": true
   },
   "outputs": [],
   "source": [
    "from sklearn.metrics import precision_score, recall_score\n",
    "\n",
    "precision_score(y_train, y_train_pred    #计算precision\n",
    "recall_score(y_train, y_train_pred)      #计算recall"
   ]
  },
  {
   "cell_type": "markdown",
   "metadata": {},
   "source": [
    "为了便于衡量2个分类器,通常可以将precision和recall转化成一个标准,称为F1  \n",
    "F1为precision和recall的调和平均值(harmonic mean),调和平均值为较低的值赋予更高的权重,只有当2个分值都较高时,F1才会较高\n",
    "F1更倾向于给具有相似分值的precision和recall一个相对更高的分值, 但这与实际建模的目的可能存在一定的不符"
   ]
  },
  {
   "cell_type": "markdown",
   "metadata": {},
   "source": [
    "$\\Large F1=\\frac{2}{\\frac{1}{precision}+\\frac{1}{recall}}=2×\\frac{precision×recall}{precision+recall}$"
   ]
  },
  {
   "cell_type": "code",
   "execution_count": null,
   "metadata": {
    "collapsed": true
   },
   "outputs": [],
   "source": [
    "from sklearn.metrics import f1_score\n",
    "f1_score(y_train, y_train_pred)   # 计算F1值"
   ]
  }
 ],
 "metadata": {
  "kernelspec": {
   "display_name": "Python 2",
   "language": "python",
   "name": "python2"
  },
  "language_info": {
   "codemirror_mode": {
    "name": "ipython",
    "version": 2
   },
   "file_extension": ".py",
   "mimetype": "text/x-python",
   "name": "python",
   "nbconvert_exporter": "python",
   "pygments_lexer": "ipython2",
   "version": "2.7.14"
  }
 },
 "nbformat": 4,
 "nbformat_minor": 2
}

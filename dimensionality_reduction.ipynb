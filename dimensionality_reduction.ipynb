{
 "cells": [
  {
   "cell_type": "markdown",
   "metadata": {},
   "source": [
    "# Dimensionality Reduction"
   ]
  },
  {
   "cell_type": "markdown",
   "metadata": {},
   "source": [
    "降维可以有效提升模型的运行速度  \n",
    "降维在数据可视化中也非常有用  \n",
    "通常,降维会丢失一些信息,可能会使模型的效果稍微变差一点   \n",
    "在少数情况下,降维也可能会剔除一些噪音和不重要的细节,使模型的效果提升"
   ]
  },
  {
   "cell_type": "markdown",
   "metadata": {},
   "source": [
    "维数越高,两点之间的距离越长   \n",
    "这意味着高维数据集有着过于稀疏的风险"
   ]
  },
  {
   "cell_type": "markdown",
   "metadata": {},
   "source": [
    "训练集的维数越高,越有可能会过度拟合  \n",
    "在理论上,解决curse of dimensionality的一个办法是增加训练数据,达到一个足够的训练实例密度  \n",
    "然而在实际上,要达到足够的密度,需要的训练实例数随着特征的增加呈指数式上升"
   ]
  },
  {
   "cell_type": "markdown",
   "metadata": {},
   "source": [
    "## 降维的主要方法"
   ]
  },
  {
   "cell_type": "markdown",
   "metadata": {},
   "source": [
    "1.Projection  \n",
    "2.Manifold Learning"
   ]
  },
  {
   "cell_type": "markdown",
   "metadata": {},
   "source": [
    "在现实问题中,训练实例并不是规则分布在所有维度上的  \n",
    "许多特征总是一些常量, 而另一些则可能高度相关  \n",
    "因此,所有的训练实例实际上是存在于高维空间中一个更低维度的子空间内的  \n",
    "e.g. 将一个3D数据映射在一个2D中"
   ]
  },
  {
   "cell_type": "markdown",
   "metadata": {},
   "source": [
    "降维并不一定会获得一个更优或更简单的解决方案  \n",
    "提升与否取决于实际的数据集"
   ]
  },
  {
   "cell_type": "markdown",
   "metadata": {},
   "source": [
    "## PCA(Principal Component Analysis)"
   ]
  },
  {
   "cell_type": "markdown",
   "metadata": {},
   "source": []
  }
 ],
 "metadata": {
  "kernelspec": {
   "display_name": "Python 2",
   "language": "python",
   "name": "python2"
  },
  "language_info": {
   "codemirror_mode": {
    "name": "ipython",
    "version": 2
   },
   "file_extension": ".py",
   "mimetype": "text/x-python",
   "name": "python",
   "nbconvert_exporter": "python",
   "pygments_lexer": "ipython2",
   "version": "2.7.14"
  }
 },
 "nbformat": 4,
 "nbformat_minor": 2
}
